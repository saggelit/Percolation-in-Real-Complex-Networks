{
 "cells": [
  {
   "cell_type": "code",
   "execution_count": null,
   "metadata": {
    "scrolled": true
   },
   "outputs": [],
   "source": [
    "import pandas as pd\n",
    "import numpy as np\n",
    "import matplotlib.pyplot as plt\n",
    "import networkx as nx\n",
    "import collections\n",
    "from tqdm.notebook import  tqdm\n",
    "import matplotlib.ticker as ticker\n",
    "import json"
   ]
  },
  {
   "cell_type": "markdown",
   "metadata": {},
   "source": [
    "# DATA"
   ]
  },
  {
   "cell_type": "markdown",
   "metadata": {},
   "source": [
    "## EP_Cit_Counts"
   ]
  },
  {
   "cell_type": "code",
   "execution_count": null,
   "metadata": {
    "scrolled": true
   },
   "outputs": [],
   "source": [
    "EP_Cit_Counts=pd.read_table('201609_EP_Cit_Counts.txt',sep='|')"
   ]
  },
  {
   "cell_type": "code",
   "execution_count": null,
   "metadata": {
    "scrolled": true
   },
   "outputs": [],
   "source": [
    "list_EP_Cit_Counts=list(map(list,zip(list(EP_Cit_Counts['EP_Pub_date']),list(EP_Cit_Counts['EP_Pub_nbr']))))\n",
    "All_Dates=[]\n",
    "for i in range(len(list_EP_Cit_Counts)):\n",
    "    All_Dates.append([str(list_EP_Cit_Counts[i][0])[0:4],str(list_EP_Cit_Counts[i][0])[4:6],\\\n",
    "                      str(list_EP_Cit_Counts[i][0])[6:8],list_EP_Cit_Counts[i][1],str(list_EP_Cit_Counts[i][0])])\n",
    "\n",
    "list_EP_Cit_Counts=All_Dates #2D List με ημερομηνίες σπασμένες και EP_Pub_nbr"
   ]
  },
  {
   "cell_type": "code",
   "execution_count": null,
   "metadata": {
    "scrolled": true
   },
   "outputs": [],
   "source": [
    "indexes=[] # Πετάω έξω όλες τις σειρές με ημερομηνία '99991231'\n",
    "for i in range (len(list_EP_Cit_Counts)):\n",
    "    if list_EP_Cit_Counts[i][0]=='9999' or len(list_EP_Cit_Counts[i][3])!=9:\n",
    "        indexes.append(i)\n",
    "indexes.sort(reverse=True) #Αντιστρέφω τα indexes για να μπορώ να διαγράφω τιμές χωρίς να βγαίνει εκτός εύρους\n",
    "for i in indexes:\n",
    "    del list_EP_Cit_Counts[i]\n",
    "\n",
    "# Πετάω έξω διπλότυπα Pub_nbr και sortάρω\n",
    "test_list_EP_Cit_Counts=[list(t) for t in set(tuple(element) for element in list_EP_Cit_Counts)]\n",
    "list_EP_Cit_Counts=sorted(test_list_EP_Cit_Counts,key=lambda l:l[3]) #sta alla gt thelei sort me date? pws leitourgei sta tw?"
   ]
  },
  {
   "cell_type": "markdown",
   "metadata": {},
   "source": [
    "## EPO_App_reg"
   ]
  },
  {
   "cell_type": "code",
   "execution_count": null,
   "metadata": {
    "scrolled": true
   },
   "outputs": [],
   "source": [
    "EPO_App_reg=pd.read_table('201602_EPO_App_reg.txt',sep='|')\n",
    "EPO_App_reg=EPO_App_reg.sort_values(by=['Pub_nbr'],ignore_index=True)"
   ]
  },
  {
   "cell_type": "markdown",
   "metadata": {},
   "source": [
    "# EPO_Ipc"
   ]
  },
  {
   "cell_type": "code",
   "execution_count": null,
   "metadata": {
    "scrolled": true
   },
   "outputs": [],
   "source": [
    "EPO_Ipc=pd.read_table('201602_EPO_IPC.txt',sep='|')\n",
    "EPO_Ipc=EPO_Ipc.sort_values(by=['Appln_id'],ignore_index=True)"
   ]
  },
  {
   "cell_type": "code",
   "execution_count": null,
   "metadata": {
    "scrolled": true
   },
   "outputs": [],
   "source": [
    "list_Ipc=list(map(list,zip(list(EPO_Ipc['Appln_id']),list(EPO_Ipc['IPC']))))\n",
    "list_Ipc_A=[c for c in list_Ipc if str(c[1])[0]=='A']\n",
    "list_Ipc_B=[c for c in list_Ipc if str(c[1])[0]=='B']\n",
    "list_Ipc_C=[c for c in list_Ipc if str(c[1])[0]=='C']\n",
    "#list_Ipc_D=[c for c in list_Ipc if str(c[1])[0]=='D']\n",
    "#list_Ipc_E=[c for c in list_Ipc if str(c[1])[0]=='E']\n",
    "#list_Ipc_F=[c for c in list_Ipc if str(c[1])[0]=='F']\n",
    "list_Ipc_G=[c for c in list_Ipc if str(c[1])[0]=='G']\n",
    "list_Ipc_H=[c for c in list_Ipc if str(c[1])[0]=='H']"
   ]
  },
  {
   "cell_type": "markdown",
   "metadata": {},
   "source": [
    "## EPO_Inv_reg"
   ]
  },
  {
   "cell_type": "code",
   "execution_count": null,
   "metadata": {
    "scrolled": true
   },
   "outputs": [],
   "source": [
    "EPO_Inv_reg=pd.read_table('201602_EPO_Inv_reg.txt',sep='|')\n",
    "EPO_Inv_reg=EPO_Inv_reg.sort_values(by=['Pub_nbr'],ignore_index=True)"
   ]
  },
  {
   "cell_type": "markdown",
   "metadata": {},
   "source": [
    "# FUNCTIONS ! ! !"
   ]
  },
  {
   "cell_type": "markdown",
   "metadata": {},
   "source": [
    "## Functions to take data"
   ]
  },
  {
   "cell_type": "code",
   "execution_count": null,
   "metadata": {
    "scrolled": true
   },
   "outputs": [],
   "source": [
    "def takeZeroColumn(elem): # Συνάρτηση για να παίρνει συγκεκριμένη στήλη από 2D list\n",
    "    return elem[0]\n",
    "\n",
    "def takeSecondColumn(elem): # Συνάρτηση για να παίρνει συγκεκριμένη στήλη από 2D list ως key για σορτάρισμα\n",
    "    return elem[2]\n",
    "\n",
    "def takeThirdColumn(elem):\n",
    "    return elem[3]"
   ]
  },
  {
   "cell_type": "code",
   "execution_count": null,
   "metadata": {
    "scrolled": true
   },
   "outputs": [],
   "source": [
    "# Συνάρτηση για να σκανάρω τις δύο λίστες(τις λίστες με τα App/Inv και με τις ημερομηνίες που έχουν Pub_nbr)\n",
    "# και να κρατήσω μόνο τις σειρές με τα pub_nbrs που υπάρχουν και στις δύο λίστες\n",
    "# (εδώ ελεγχει λίγες και παίρνει τις ίδιες)\n",
    "def pub_nbr_person_id_fun(data,tw_data):\n",
    "    output=[]\n",
    "    k,l=0,0\n",
    "    for i in range(k,len(tw_data)):\n",
    "        for j in range(l,len(data)):\n",
    "            if tw_data[i][3]==data[j][0]:\n",
    "                output.append([data[j][0],data[j][1],data[j][2],tw_data[i][4]])\n",
    "                l=j+1\n",
    "            elif tw_data[i][3]<data[j][0]:\n",
    "                break\n",
    "            elif tw_data[i][3]>data[j][0]:\n",
    "                pass\n",
    "    output.sort(key=takeThirdColumn) #sort by date gia na kanw tis syndeseis\n",
    "    return output"
   ]
  },
  {
   "cell_type": "markdown",
   "metadata": {},
   "source": [
    "## Functions for NETWORK and creating edges for all data"
   ]
  },
  {
   "cell_type": "code",
   "execution_count": null,
   "metadata": {
    "scrolled": true
   },
   "outputs": [],
   "source": [
    "def component_dict_fun(data):\n",
    "    clusters_dict=collections.defaultdict(list)\n",
    "    clusters=[c for c in sorted(nx.connected_components(data), key=len, reverse=True)]\n",
    "    for i,c in enumerate(clusters):#Loop through the list of communities,keeping track of the number for the community\n",
    "        for name in c: # Loop through each person in a community\n",
    "            clusters_dict[i].append(name) # Create an entry in the dictionary for the person,\n",
    "                                                   # where the value is which group they belong to.\n",
    "    # Now you can add modularity information like we did the other metrics\n",
    "    nx.set_node_attributes(data, clusters_dict, 'components')\n",
    "    return clusters_dict"
   ]
  },
  {
   "cell_type": "code",
   "execution_count": null,
   "metadata": {
    "scrolled": true
   },
   "outputs": [],
   "source": [
    "def creating_edges_fun_dynamical(data,step):\n",
    "    links,clusters,size,net_edges,date=[],[],[],[],[]\n",
    "    network=nx.Graph()\n",
    "    k=0\n",
    "    for i in tqdm(range(len(data)-1), desc='progress_out'):\n",
    "        for j in range(i+1,len(data)):\n",
    "            if data[i][0]==data[j][0] and data[i][1]!=data[j][1]: # Ίδια Pub_nbrs αλλά διαφορετικά Person_id\n",
    "                # ΠΡΟΣΘΗΚΗ!!!!! Δεν κάνει συνδέσεις κόμβων με τον εαυτό τους!!!!\n",
    "                links.append((data[i][1],data[j][1]))\n",
    "                k=k+1\n",
    "                if k%step==0: #or j==len(data): #Na to tsekarw\n",
    "                    network.add_edges_from(links)\n",
    "                    clusters=component_dict_fun(network)\n",
    "                    size.append([len(clusters[0]),len(clusters[1]),len(clusters[2]),\\\n",
    "                                len(clusters[3]),len(clusters[4])])\n",
    "                    net_edges.append(network.number_of_edges())\n",
    "                    links.clear()\n",
    "                    date.append(str(data[i][3][0:4])+'/'+str(data[i][3][4:6])+'/'+str(data[i][3][6:8]))\n",
    "            else:\n",
    "                break # Είναι sortarismeno το EPO_App_reg_Pub_nbr_Person_id οπότε κόβω το scannarisma στο 1ο ζευγάρι που δεν είναι ίδιο.\n",
    "    return net_edges, size, date"
   ]
  },
  {
   "cell_type": "markdown",
   "metadata": {},
   "source": [
    "## Function for data based on patents' category"
   ]
  },
  {
   "cell_type": "code",
   "execution_count": null,
   "metadata": {
    "scrolled": true
   },
   "outputs": [],
   "source": [
    "def appln_id_pub_nbr_person_id_fun(data,ipc_data):\n",
    "    output=[]\n",
    "    k,l=0,0\n",
    "    for i in range(k,len(ipc_data)):\n",
    "        for j in range(l,len(data)):\n",
    "            if ipc_data[i][0]==data[j][2]:\n",
    "                output.append([data[j][0],data[j][1],data[j][2],data[j][3]])\n",
    "                l=j+1\n",
    "            elif ipc_data[i][0]<data[j][2]:\n",
    "                break\n",
    "            elif ipc_data[i][0]>data[j][2]:\n",
    "                pass\n",
    "    output.sort(key=takeThirdColumn) #sort by date gia na kanw tis syndeseis\n",
    "    return output"
   ]
  },
  {
   "cell_type": "markdown",
   "metadata": {},
   "source": [
    "# EPO_App_reg"
   ]
  },
  {
   "cell_type": "markdown",
   "metadata": {},
   "source": [
    "## Pub_nbrs"
   ]
  },
  {
   "cell_type": "code",
   "execution_count": null,
   "metadata": {
    "scrolled": true
   },
   "outputs": [],
   "source": [
    "EPO_App_reg_all=[]\n",
    "EPO_App_reg_all=list(map(list,zip(EPO_App_reg['Pub_nbr'],EPO_App_reg['Person_id'],EPO_App_reg['Appln_id'])))\n",
    "#EPO_App_reg_all.sort(key=takeZeroColumn) # Έχω sortάρει στο αρχικό αρχείο"
   ]
  },
  {
   "cell_type": "code",
   "execution_count": null,
   "metadata": {
    "scrolled": true
   },
   "outputs": [],
   "source": [
    "# Τελικές τιμές Pub_nbrs, Person_ids μετά την αντιστοίχιση στις 2 λίστες.\n",
    "EPO_App_reg_Pub_nbr_Person_id=[]\n",
    "EPO_App_reg_Pub_nbr_Person_id=pub_nbr_person_id_fun(EPO_App_reg_all,list_EP_Cit_Counts)"
   ]
  },
  {
   "cell_type": "markdown",
   "metadata": {},
   "source": [
    "## Creating Edges"
   ]
  },
  {
   "cell_type": "code",
   "execution_count": null,
   "metadata": {
    "scrolled": true
   },
   "outputs": [],
   "source": [
    "mixed_edges_clusters_EPO_App_reg=[]\n",
    "links_EPO_App_reg,sizes_EPO_App_reg,dates_EPO_App_reg=[],[],[]\n",
    "mixed_edges_clusters_EPO_App_reg=creating_edges_fun_dynamical(EPO_App_reg_Pub_nbr_Person_id,500)\n",
    "links_EPO_App_reg=mixed_edges_clusters_EPO_App_reg[0]\n",
    "sizes_EPO_App_reg=mixed_edges_clusters_EPO_App_reg[1]\n",
    "dates_EPO_App_reg=mixed_edges_clusters_EPO_App_reg[2]"
   ]
  },
  {
   "cell_type": "code",
   "execution_count": null,
   "metadata": {
    "scrolled": true
   },
   "outputs": [],
   "source": [
    "for i in range (len(links_EPO_App_reg)):\n",
    "    plt.plot(links_EPO_App_reg[i],sizes_EPO_App_reg[i][0],'^',ms=4,markeredgewidth=0.5,mec='r',mfc='none')\n",
    "    plt.plot(links_EPO_App_reg[i],sizes_EPO_App_reg[i][1],'*',ms=4,markeredgewidth=0.5,mec='g',mfc='none')\n",
    "    plt.plot(links_EPO_App_reg[i],sizes_EPO_App_reg[i][2],'<',ms=4,markeredgewidth=0.5,mec='b',mfc='none')\n",
    "    plt.plot(links_EPO_App_reg[i],sizes_EPO_App_reg[i][3],'>',ms=4,markeredgewidth=0.5,mec='c',mfc='none')\n",
    "    plt.plot(links_EPO_App_reg[i],sizes_EPO_App_reg[i][4],'s',ms=4,markeredgewidth=0.5,mec='y',mfc='none')\n",
    "plt.legend(('1st cluster','2nd cluster','3rd cluster','4th cluster','5th cluster'),\\\n",
    "           shadow=True, title=\"Legend\", fancybox=True,prop={'size': 11})\n",
    "plt.locator_params(axis='both',nbins=5)\n",
    "x_values = plt.gca().get_xticks()\n",
    "plt.gca().set_xticklabels(['{:,.1f}'.format(x/1000) for x in x_values])\n",
    "y_values = plt.gca().get_yticks()\n",
    "plt.gca().set_yticklabels(['{:,.1f}'.format(y/1000) for y in y_values])\n",
    "plt.xticks(size=15)\n",
    "plt.yticks(size=15)\n",
    "plt.xlabel(\"Number of links (x$10^3$)\",size=18)\n",
    "plt.ylabel(\"Cluster Size (x$10^3$)\",size=18)\n",
    "plt.title(\"EPO_App_reg - Full Network\",size=18)\n",
    "plt.show()"
   ]
  },
  {
   "cell_type": "code",
   "execution_count": null,
   "metadata": {
    "scrolled": true
   },
   "outputs": [],
   "source": [
    "# EXPORTING DATAPLOT\n",
    "EPO_App_reg_DataPlot=collections.defaultdict(list)\n",
    "for i in range(len(sizes_EPO_App_reg)):\n",
    "    EPO_App_reg_DataPlot[i].append([links_EPO_App_reg[i],\\\n",
    "                                    sizes_EPO_App_reg[i][0],\\\n",
    "                                    sizes_EPO_App_reg[i][1],\\\n",
    "                                    sizes_EPO_App_reg[i][2],\\\n",
    "                                    sizes_EPO_App_reg[i][3],\\\n",
    "                                    sizes_EPO_App_reg[i][4]]) # einai dict. Gi ayto [i] kai append\n",
    "\n",
    "with open('FULL_EPO_App_reg__DataPlot.txt', 'w') as convert_file:\n",
    "    for key,value in EPO_App_reg_DataPlot.items():\n",
    "        for x,y,z,w,q,t in value:\n",
    "            convert_file.write('%s|%s|%s|%s|%s|%s\\n'%(x,y,z,w,q,t))"
   ]
  },
  {
   "cell_type": "code",
   "execution_count": null,
   "metadata": {
    "scrolled": true
   },
   "outputs": [],
   "source": [
    "EPO_App_reg_Data=collections.defaultdict(list)\n",
    "for i in range(len(dates_EPO_App_reg)):\n",
    "    EPO_App_reg_Data[i].append([dates_EPO_App_reg[i],sizes_EPO_App_reg[i]])\n",
    "\n",
    "with open('FULL_EPO_App_reg__Data.txt', 'w') as convert_file:\n",
    "     for key,value in EPO_App_reg_Data.items():\n",
    "        convert_file.write('%s:%s\\n'%(key,value))"
   ]
  },
  {
   "cell_type": "markdown",
   "metadata": {},
   "source": [
    "# EPO_App_reg based on pantents' category"
   ]
  },
  {
   "cell_type": "code",
   "execution_count": null,
   "metadata": {
    "scrolled": true
   },
   "outputs": [],
   "source": [
    "EPO_App_reg_Appln_id=[] #Παίρνω το προηγούμενο αρχείο και σορτάρω με βάση το appln_id για αντιστοίχιση παρακάτω\n",
    "EPO_App_reg_Appln_id=EPO_App_reg_Pub_nbr_Person_id\n",
    "EPO_App_reg_Appln_id.sort(key=takeSecondColumn)"
   ]
  },
  {
   "cell_type": "markdown",
   "metadata": {},
   "source": [
    "## Patents \"C\": Chemistry; Metallurgy"
   ]
  },
  {
   "cell_type": "code",
   "execution_count": null,
   "metadata": {
    "scrolled": true
   },
   "outputs": [],
   "source": [
    "EPO_App_reg_C_Pub_nbr_Person_id_Appl_id=[] #Aντιστοίχιση για να κρατήσω μόνο τις σειρές με appln_id -> C\n",
    "EPO_App_reg_C_Pub_nbr_Person_id_Appl_id=appln_id_pub_nbr_person_id_fun(EPO_App_reg_Appln_id,list_Ipc_C)"
   ]
  },
  {
   "cell_type": "markdown",
   "metadata": {},
   "source": [
    "### Creating Edges"
   ]
  },
  {
   "cell_type": "code",
   "execution_count": null,
   "metadata": {
    "scrolled": true
   },
   "outputs": [],
   "source": [
    "# Δημιουργία συνδέσεων και μεγέθους σμηνών κατευθείαν από την edges συνάρτηση-Δυναμικό δίκτυο\n",
    "mixed_edges_clusters_EPO_App_reg_C=[]\n",
    "links_EPO_App_reg_C,sizes_EPO_App_reg_C,dates_EPO_App_reg_C=[],[],[]\n",
    "mixed_edges_clusters_EPO_App_reg_C=creating_edges_fun_dynamical(EPO_App_reg_C_Pub_nbr_Person_id_Appl_id,500)\n",
    "links_EPO_App_reg_C=mixed_edges_clusters_EPO_App_reg_C[0]\n",
    "sizes_EPO_App_reg_C=mixed_edges_clusters_EPO_App_reg_C[1]\n",
    "dates_EPO_App_reg_C=mixed_edges_clusters_EPO_App_reg_C[2]"
   ]
  },
  {
   "cell_type": "code",
   "execution_count": null,
   "metadata": {
    "scrolled": true
   },
   "outputs": [],
   "source": [
    "for i in range(len(links_EPO_App_reg_C)):\n",
    "    plt.plot(links_EPO_App_reg_C[i],sizes_EPO_App_reg_C[i][0],'^',ms=4,markeredgewidth=0.5,mec='r',mfc='none')\n",
    "    plt.plot(links_EPO_App_reg_C[i],sizes_EPO_App_reg_C[i][1],'*',ms=4,markeredgewidth=0.5,mec='g',mfc='none')\n",
    "    plt.plot(links_EPO_App_reg_C[i],sizes_EPO_App_reg_C[i][2],'<',ms=4,markeredgewidth=0.5,mec='b',mfc='none')\n",
    "    plt.plot(links_EPO_App_reg_C[i],sizes_EPO_App_reg_C[i][3],'>',ms=4,markeredgewidth=0.5,mec='c',mfc='none')\n",
    "    plt.plot(links_EPO_App_reg_C[i],sizes_EPO_App_reg_C[i][4],'s',ms=4,markeredgewidth=0.5,mec='y',mfc='none')\n",
    "plt.legend(('1st cluster','2nd cluster','3rd cluster','4th cluster','5th cluster'),\\\n",
    "           shadow=True, title=\"Legend\", fancybox=True,prop={'size': 11})\n",
    "plt.locator_params(axis='both',nbins=5)\n",
    "x_values = plt.gca().get_xticks()\n",
    "plt.gca().set_xticklabels(['{:,.1f}'.format(x/1000) for x in x_values])\n",
    "y_values = plt.gca().get_yticks()\n",
    "plt.gca().set_yticklabels(['{:,.1f}'.format(y/1000) for y in y_values])\n",
    "plt.xticks(size=15)\n",
    "plt.yticks(size=15)\n",
    "plt.xlabel(\"Number of links (x$10^3$)\",size=18)\n",
    "plt.ylabel(\"Cluster Size (x$10^3$)\",size=18)\n",
    "plt.title(\"EPO_App_reg - Full Network - P.C. 'C'\",size=18)\n",
    "plt.show()"
   ]
  },
  {
   "cell_type": "code",
   "execution_count": null,
   "metadata": {
    "scrolled": true
   },
   "outputs": [],
   "source": [
    "# EXPORTING DATAPLOT\n",
    "EPO_App_reg_C_DataPlot=collections.defaultdict(list)\n",
    "for i in range(len(sizes_EPO_App_reg_C)):\n",
    "    EPO_App_reg_C_DataPlot[i].append([links_EPO_App_reg_C[i],\\\n",
    "                                      sizes_EPO_App_reg_C[i][0],\\\n",
    "                                      sizes_EPO_App_reg_C[i][1],\\\n",
    "                                      sizes_EPO_App_reg_C[i][2],\\\n",
    "                                      sizes_EPO_App_reg_C[i][3],\\\n",
    "                                      sizes_EPO_App_reg_C[i][4]]) # einai dict. Gi ayto [i] kai append\n",
    "\n",
    "with open('FULL_EPO_App_reg_C_DataPlot.txt', 'w') as convert_file:\n",
    "    for key,value in EPO_App_reg_C_DataPlot.items():\n",
    "        for x,y,z,w,q,t in value:\n",
    "            convert_file.write('%s|%s|%s|%s|%s|%s\\n'%(x,y,z,w,q,t))"
   ]
  },
  {
   "cell_type": "code",
   "execution_count": null,
   "metadata": {
    "scrolled": true
   },
   "outputs": [],
   "source": [
    "EPO_App_reg_C_Data=collections.defaultdict(list)\n",
    "for i in range(len(dates_EPO_App_reg_C)):\n",
    "    EPO_App_reg_C_Data[i].append([dates_EPO_App_reg_C[i],sizes_EPO_App_reg_C[i]])\n",
    "\n",
    "with open('FULL_EPO_App_reg_C_Data.txt', 'w') as convert_file:\n",
    "     for key,value in EPO_App_reg_C_Data.items():\n",
    "        convert_file.write('%s:%s\\n'%(key,value))"
   ]
  },
  {
   "cell_type": "markdown",
   "metadata": {},
   "source": [
    "## Patents \"A\": Human necessities"
   ]
  },
  {
   "cell_type": "code",
   "execution_count": null,
   "metadata": {
    "scrolled": true
   },
   "outputs": [],
   "source": [
    "EPO_App_reg_A_Pub_nbr_Person_id_Appl_id=[] #Aντιστοίχιση για να κρατήσω μόνο τις σειρές με appln_id -> A\n",
    "EPO_App_reg_A_Pub_nbr_Person_id_Appl_id=appln_id_pub_nbr_person_id_fun(EPO_App_reg_Appln_id,list_Ipc_A)"
   ]
  },
  {
   "cell_type": "markdown",
   "metadata": {},
   "source": [
    "### Creating Edges for Every Time Window"
   ]
  },
  {
   "cell_type": "code",
   "execution_count": null,
   "metadata": {
    "scrolled": true
   },
   "outputs": [],
   "source": [
    "# Δημιουργία συνδέσεων και μεγέθους σμηνών κατευθείαν από την edges συνάρτηση-Δυναμικό δίκτυο\n",
    "mixed_edges_clusters_EPO_App_reg_A=[]\n",
    "links_EPO_App_reg_A,sizes_EPO_App_reg_A,dates_EPO_App_reg_A=[],[],[]\n",
    "mixed_edges_clusters_EPO_App_reg_A=creating_edges_fun_dynamical(EPO_App_reg_A_Pub_nbr_Person_id_Appl_id,500)\n",
    "links_EPO_App_reg_A=mixed_edges_clusters_EPO_App_reg_A[0]\n",
    "sizes_EPO_App_reg_A=mixed_edges_clusters_EPO_App_reg_A[1]\n",
    "dates_EPO_App_reg_A=mixed_edges_clusters_EPO_App_reg_A[2]"
   ]
  },
  {
   "cell_type": "code",
   "execution_count": null,
   "metadata": {
    "scrolled": true
   },
   "outputs": [],
   "source": [
    "for i in range(len(links_EPO_App_reg_A)):\n",
    "    plt.plot(links_EPO_App_reg_A[i],sizes_EPO_App_reg_A[i][0],'^',ms=4,markeredgewidth=0.5,mec='r',mfc='none')\n",
    "    plt.plot(links_EPO_App_reg_A[i],sizes_EPO_App_reg_A[i][1],'*',ms=4,markeredgewidth=0.5,mec='g',mfc='none')\n",
    "    plt.plot(links_EPO_App_reg_A[i],sizes_EPO_App_reg_A[i][2],'<',ms=4,markeredgewidth=0.5,mec='b',mfc='none')\n",
    "    plt.plot(links_EPO_App_reg_A[i],sizes_EPO_App_reg_A[i][3],'>',ms=4,markeredgewidth=0.5,mec='c',mfc='none')\n",
    "    plt.plot(links_EPO_App_reg_A[i],sizes_EPO_App_reg_A[i][4],'s',ms=4,markeredgewidth=0.5,mec='y',mfc='none')\n",
    "plt.legend(('1st cluster','2nd cluster','3rd cluster','4th cluster','5th cluster'),\\\n",
    "           shadow=True, title=\"Legend\", fancybox=True,prop={'size': 11})\n",
    "plt.locator_params(axis='both',nbins=5)\n",
    "x_values = plt.gca().get_xticks()\n",
    "plt.gca().set_xticklabels(['{:,.1f}'.format(x/1000) for x in x_values])\n",
    "y_values = plt.gca().get_yticks()\n",
    "plt.gca().set_yticklabels(['{:,.1f}'.format(y/1000) for y in y_values])\n",
    "plt.xticks(size=15)\n",
    "plt.yticks(size=15)\n",
    "plt.xlabel(\"Number of links (x$10^3$)\",size=18)\n",
    "plt.ylabel(\"Cluster Size (x$10^3$)\",size=18)\n",
    "plt.title(\"EPO_App_reg - Full Network - P.C. 'A'\",size=18)\n",
    "plt.show()"
   ]
  },
  {
   "cell_type": "code",
   "execution_count": null,
   "metadata": {
    "scrolled": true
   },
   "outputs": [],
   "source": [
    "# EXPORTING DATAPLOT\n",
    "EPO_App_reg_A_DataPlot=collections.defaultdict(list)\n",
    "for i in range(len(sizes_EPO_App_reg_A)):\n",
    "    EPO_App_reg_A_DataPlot[i].append([links_EPO_App_reg_A[i],\\\n",
    "                                      sizes_EPO_App_reg_A[i][0],\\\n",
    "                                      sizes_EPO_App_reg_A[i][1],\\\n",
    "                                      sizes_EPO_App_reg_A[i][2],\\\n",
    "                                      sizes_EPO_App_reg_A[i][3],\\\n",
    "                                      sizes_EPO_App_reg_A[i][4]]) # einai dict. Gi ayto [i] kai append\n",
    "\n",
    "with open('FULL_EPO_App_reg_A_DataPlot.txt', 'w') as convert_file:\n",
    "    for key,value in EPO_App_reg_A_DataPlot.items():\n",
    "        for x,y,z,w,q,t in value:\n",
    "            convert_file.write('%s|%s|%s|%s|%s|%s\\n'%(x,y,z,w,q,t))"
   ]
  },
  {
   "cell_type": "code",
   "execution_count": null,
   "metadata": {
    "scrolled": true
   },
   "outputs": [],
   "source": [
    "EPO_App_reg_A_Data=collections.defaultdict(list)\n",
    "for i in range(len(dates_EPO_App_reg_A)):\n",
    "    EPO_App_reg_A_Data[i].append([dates_EPO_App_reg_A[i],sizes_EPO_App_reg_A[i]])\n",
    "\n",
    "with open('FULL_EPO_App_reg_A_Data.txt', 'w') as convert_file:\n",
    "     for key,value in EPO_App_reg_A_Data.items():\n",
    "        convert_file.write('%s:%s\\n'%(key,value))"
   ]
  },
  {
   "cell_type": "markdown",
   "metadata": {},
   "source": [
    "## Patents \"H\": Electricity"
   ]
  },
  {
   "cell_type": "code",
   "execution_count": null,
   "metadata": {
    "scrolled": true
   },
   "outputs": [],
   "source": [
    "EPO_App_reg_H_Pub_nbr_Person_id_Appl_id=[] #Aντιστοίχιση για να κρατήσω μόνο τις σειρές με appln_id -> H\n",
    "EPO_App_reg_H_Pub_nbr_Person_id_Appl_id=appln_id_pub_nbr_person_id_fun(EPO_App_reg_Appln_id,list_Ipc_H)"
   ]
  },
  {
   "cell_type": "markdown",
   "metadata": {},
   "source": [
    "### Creating Edges for Every Time Window"
   ]
  },
  {
   "cell_type": "code",
   "execution_count": null,
   "metadata": {
    "scrolled": true
   },
   "outputs": [],
   "source": [
    "# Δημιουργία συνδέσεων και μεγέθους σμηνών κατευθείαν από την edges συνάρτηση-Δυναμικό δίκτυο\n",
    "mixed_edges_clusters_EPO_App_reg_H=[]\n",
    "links_EPO_App_reg_H,sizes_EPO_App_reg_H,dates_EPO_App_reg_H=[],[],[]\n",
    "mixed_edges_clusters_EPO_App_reg_H=creating_edges_fun_dynamical(EPO_App_reg_H_Pub_nbr_Person_id_Appl_id,500)\n",
    "links_EPO_App_reg_H=mixed_edges_clusters_EPO_App_reg_H[0]\n",
    "sizes_EPO_App_reg_H=mixed_edges_clusters_EPO_App_reg_H[1]\n",
    "dates_EPO_App_reg_H=mixed_edges_clusters_EPO_App_reg_H[2]"
   ]
  },
  {
   "cell_type": "code",
   "execution_count": null,
   "metadata": {
    "scrolled": true
   },
   "outputs": [],
   "source": [
    "for i in range(len(links_EPO_App_reg_H)):\n",
    "    plt.plot(links_EPO_App_reg_H[i],sizes_EPO_App_reg_H[i][0],'^',ms=4,markeredgewidth=0.5,mec='r',mfc='none')\n",
    "    plt.plot(links_EPO_App_reg_H[i],sizes_EPO_App_reg_H[i][1],'*',ms=4,markeredgewidth=0.5,mec='g',mfc='none')\n",
    "    plt.plot(links_EPO_App_reg_H[i],sizes_EPO_App_reg_H[i][2],'<',ms=4,markeredgewidth=0.5,mec='b',mfc='none')\n",
    "    plt.plot(links_EPO_App_reg_H[i],sizes_EPO_App_reg_H[i][3],'>',ms=4,markeredgewidth=0.5,mec='c',mfc='none')\n",
    "    plt.plot(links_EPO_App_reg_H[i],sizes_EPO_App_reg_H[i][4],'s',ms=4,markeredgewidth=0.5,mec='y',mfc='none')\n",
    "plt.legend(('1st cluster','2nd cluster','3rd cluster','4th cluster','5th cluster'),\\\n",
    "           shadow=True, title=\"Legend\", fancybox=True,prop={'size': 11})\n",
    "plt.locator_params(axis='both',nbins=5)\n",
    "x_values = plt.gca().get_xticks()\n",
    "plt.gca().set_xticklabels(['{:,.1f}'.format(x/1000) for x in x_values])\n",
    "y_values = plt.gca().get_yticks()\n",
    "plt.gca().set_yticklabels(['{:,.1f}'.format(y/1000) for y in y_values])\n",
    "plt.xticks(size=15)\n",
    "plt.yticks(size=15)\n",
    "plt.xlabel(\"Number of links (x$10^3$)\",size=18)\n",
    "plt.ylabel(\"Cluster Size (x$10^3$)\",size=18)\n",
    "plt.title(\"EPO_App_reg - Full Network - P.C. 'H'\",size=18)\n",
    "plt.show()"
   ]
  },
  {
   "cell_type": "code",
   "execution_count": null,
   "metadata": {
    "scrolled": true
   },
   "outputs": [],
   "source": [
    "# EXPORTING DATAPLOT\n",
    "EPO_App_reg_H_DataPlot=collections.defaultdict(list)\n",
    "for i in range(len(sizes_EPO_App_reg_H)):\n",
    "    EPO_App_reg_H_DataPlot[i].append([links_EPO_App_reg_H[i],\\\n",
    "                                      sizes_EPO_App_reg_H[i][0],\\\n",
    "                                      sizes_EPO_App_reg_H[i][1],\\\n",
    "                                      sizes_EPO_App_reg_H[i][2],\\\n",
    "                                      sizes_EPO_App_reg_H[i][3],\\\n",
    "                                      sizes_EPO_App_reg_H[i][4]]) # einai dict. Gi ayto [i] kai append\n",
    "\n",
    "with open('FULL_EPO_App_reg_H_DataPlot.txt', 'w') as convert_file:\n",
    "    for key,value in EPO_App_reg_H_DataPlot.items():\n",
    "        for x,y,z,w,q,t in value:\n",
    "            convert_file.write('%s|%s|%s|%s|%s|%s\\n'%(x,y,z,w,q,t))"
   ]
  },
  {
   "cell_type": "code",
   "execution_count": null,
   "metadata": {
    "scrolled": true
   },
   "outputs": [],
   "source": [
    "EPO_App_reg_H_Data=collections.defaultdict(list)\n",
    "for i in range(len(dates_EPO_App_reg_H)):\n",
    "    EPO_App_reg_H_Data[i].append([dates_EPO_App_reg_H[i],sizes_EPO_App_reg_H[i]])\n",
    "\n",
    "with open('FULL_EPO_App_reg_H_Data.txt', 'w') as convert_file:\n",
    "     for key,value in EPO_App_reg_H_Data.items():\n",
    "        convert_file.write('%s:%s\\n'%(key,value))"
   ]
  },
  {
   "cell_type": "markdown",
   "metadata": {},
   "source": [
    "## Patents \"B\": Performing Operations; Transporting"
   ]
  },
  {
   "cell_type": "code",
   "execution_count": null,
   "metadata": {
    "scrolled": true
   },
   "outputs": [],
   "source": [
    "EPO_App_reg_B_Pub_nbr_Person_id_Appl_id=[] #Aντιστοίχιση για να κρατήσω μόνο τις σειρές με appln_id -> B\n",
    "EPO_App_reg_B_Pub_nbr_Person_id_Appl_id=appln_id_pub_nbr_person_id_fun(EPO_App_reg_Appln_id,list_Ipc_B)"
   ]
  },
  {
   "cell_type": "markdown",
   "metadata": {},
   "source": [
    "### Creating Edges for Every Time Window"
   ]
  },
  {
   "cell_type": "code",
   "execution_count": null,
   "metadata": {
    "scrolled": true
   },
   "outputs": [],
   "source": [
    "# Δημιουργία συνδέσεων και μεγέθους σμηνών κατευθείαν από την edges συνάρτηση-Δυναμικό δίκτυο\n",
    "mixed_edges_clusters_EPO_App_reg_B=[]\n",
    "links_EPO_App_reg_B,sizes_EPO_App_reg_B,dates_EPO_App_reg_B=[],[],[]\n",
    "mixed_edges_clusters_EPO_App_reg_B=creating_edges_fun_dynamical(EPO_App_reg_B_Pub_nbr_Person_id_Appl_id,500)\n",
    "links_EPO_App_reg_B=mixed_edges_clusters_EPO_App_reg_B[0]\n",
    "sizes_EPO_App_reg_B=mixed_edges_clusters_EPO_App_reg_B[1]\n",
    "dates_EPO_App_reg_B=mixed_edges_clusters_EPO_App_reg_B[2]"
   ]
  },
  {
   "cell_type": "code",
   "execution_count": null,
   "metadata": {
    "scrolled": false
   },
   "outputs": [],
   "source": [
    "for i in range(len(links_EPO_App_reg_B)):\n",
    "    plt.plot(links_EPO_App_reg_B[i],sizes_EPO_App_reg_B[i][0],'^',ms=4,markeredgewidth=0.5,mec='r',mfc='none')\n",
    "    plt.plot(links_EPO_App_reg_B[i],sizes_EPO_App_reg_B[i][1],'*',ms=4,markeredgewidth=0.5,mec='g',mfc='none')\n",
    "    plt.plot(links_EPO_App_reg_B[i],sizes_EPO_App_reg_B[i][2],'<',ms=4,markeredgewidth=0.5,mec='b',mfc='none')\n",
    "    plt.plot(links_EPO_App_reg_B[i],sizes_EPO_App_reg_B[i][3],'>',ms=4,markeredgewidth=0.5,mec='c',mfc='none')\n",
    "    plt.plot(links_EPO_App_reg_B[i],sizes_EPO_App_reg_B[i][4],'s',ms=4,markeredgewidth=0.5,mec='y',mfc='none')\n",
    "plt.legend(('1st cluster','2nd cluster','3rd cluster','4th cluster','5th cluster'),\\\n",
    "           shadow=True, title=\"Legend\", fancybox=True,prop={'size': 11})\n",
    "plt.locator_params(axis='both',nbins=5)\n",
    "x_values = plt.gca().get_xticks()\n",
    "plt.gca().set_xticklabels(['{:,.1f}'.format(x/1000) for x in x_values])\n",
    "y_values = plt.gca().get_yticks()\n",
    "plt.gca().set_yticklabels(['{:,.1f}'.format(y/1000) for y in y_values])\n",
    "plt.xticks(size=15)\n",
    "plt.yticks(size=15)\n",
    "plt.xlabel(\"Number of links (x$10^3$)\",size=18)\n",
    "plt.ylabel(\"Cluster Size (x$10^3$)\",size=18)\n",
    "plt.title(\"EPO_App_reg - Full Network - P.C. 'B'\",size=18)\n",
    "plt.show()"
   ]
  },
  {
   "cell_type": "code",
   "execution_count": null,
   "metadata": {
    "scrolled": true
   },
   "outputs": [],
   "source": [
    "# EXPORTING DATAPLOT\n",
    "EPO_App_reg_B_DataPlot=collections.defaultdict(list)\n",
    "for i in range(len(sizes_EPO_App_reg_B)):\n",
    "    EPO_App_reg_B_DataPlot[i].append([links_EPO_App_reg_B[i],\\\n",
    "                                      sizes_EPO_App_reg_B[i][0],\\\n",
    "                                      sizes_EPO_App_reg_B[i][1],\\\n",
    "                                      sizes_EPO_App_reg_B[i][2],\\\n",
    "                                      sizes_EPO_App_reg_B[i][3],\\\n",
    "                                      sizes_EPO_App_reg_B[i][4]]) # einai dict. Gi ayto [i] kai append\n",
    "\n",
    "with open('FULL_EPO_App_reg_B_DataPlot.txt', 'w') as convert_file:\n",
    "    for key,value in EPO_App_reg_B_DataPlot.items():\n",
    "        for x,y,z,w,q,t in value:\n",
    "            convert_file.write('%s|%s|%s|%s|%s|%s\\n'%(x,y,z,w,q,t))"
   ]
  },
  {
   "cell_type": "code",
   "execution_count": null,
   "metadata": {
    "scrolled": true
   },
   "outputs": [],
   "source": [
    "EPO_App_reg_B_Data=collections.defaultdict(list)\n",
    "for i in range(len(dates_EPO_App_reg_B)):\n",
    "    EPO_App_reg_B_Data[i].append([dates_EPO_App_reg_B[i],sizes_EPO_App_reg_B[i]])\n",
    "\n",
    "with open('FULL_EPO_App_reg_B_Data.txt', 'w') as convert_file:\n",
    "     for key,value in EPO_App_reg_B_Data.items():\n",
    "        convert_file.write('%s:%s\\n'%(key,value))"
   ]
  },
  {
   "cell_type": "markdown",
   "metadata": {},
   "source": [
    "## Patents \"G\": Physics"
   ]
  },
  {
   "cell_type": "code",
   "execution_count": null,
   "metadata": {
    "scrolled": true
   },
   "outputs": [],
   "source": [
    "EPO_App_reg_G_Pub_nbr_Person_id_Appl_id=[] #Aντιστοίχιση για να κρατήσω μόνο τις σειρές με appln_id -> G\n",
    "EPO_App_reg_G_Pub_nbr_Person_id_Appl_id=appln_id_pub_nbr_person_id_fun(EPO_App_reg_Appln_id,list_Ipc_G)"
   ]
  },
  {
   "cell_type": "markdown",
   "metadata": {},
   "source": [
    "### Creating Edges for Every Time Window"
   ]
  },
  {
   "cell_type": "code",
   "execution_count": null,
   "metadata": {
    "scrolled": true
   },
   "outputs": [],
   "source": [
    "# Δημιουργία συνδέσεων και μεγέθους σμηνών κατευθείαν από την edges συνάρτηση-Δυναμικό δίκτυο\n",
    "mixed_edges_clusters_EPO_App_reg_G=[]\n",
    "links_EPO_App_reg_G,sizes_EPO_App_reg_G,dates_EPO_App_reg_G=[],[],[]\n",
    "mixed_edges_clusters_EPO_App_reg_G=creating_edges_fun_dynamical(EPO_App_reg_G_Pub_nbr_Person_id_Appl_id,500)\n",
    "links_EPO_App_reg_G=mixed_edges_clusters_EPO_App_reg_G[0]\n",
    "sizes_EPO_App_reg_G=mixed_edges_clusters_EPO_App_reg_G[1]\n",
    "dates_EPO_App_reg_G=mixed_edges_clusters_EPO_App_reg_G[2]"
   ]
  },
  {
   "cell_type": "code",
   "execution_count": null,
   "metadata": {
    "scrolled": true
   },
   "outputs": [],
   "source": [
    "for i in range(len(links_EPO_App_reg_G)):\n",
    "    plt.plot(links_EPO_App_reg_G[i],sizes_EPO_App_reg_G[i][0],'^',ms=4,markeredgewidth=0.5,mec='r',mfc='none')\n",
    "    plt.plot(links_EPO_App_reg_G[i],sizes_EPO_App_reg_G[i][1],'*',ms=4,markeredgewidth=0.5,mec='g',mfc='none')\n",
    "    plt.plot(links_EPO_App_reg_G[i],sizes_EPO_App_reg_G[i][2],'<',ms=4,markeredgewidth=0.5,mec='b',mfc='none')\n",
    "    plt.plot(links_EPO_App_reg_G[i],sizes_EPO_App_reg_G[i][3],'>',ms=4,markeredgewidth=0.5,mec='c',mfc='none')\n",
    "    plt.plot(links_EPO_App_reg_G[i],sizes_EPO_App_reg_G[i][4],'s',ms=4,markeredgewidth=0.5,mec='y',mfc='none')\n",
    "plt.legend(('1st cluster','2nd cluster','3rd cluster','4th cluster','5th cluster'),\\\n",
    "           shadow=True, title=\"Legend\", fancybox=True,prop={'size': 11})\n",
    "plt.locator_params(axis='both',nbins=5)\n",
    "x_values = plt.gca().get_xticks()\n",
    "plt.gca().set_xticklabels(['{:,.1f}'.format(x/1000) for x in x_values])\n",
    "y_values = plt.gca().get_yticks()\n",
    "plt.gca().set_yticklabels(['{:,.1f}'.format(y/1000) for y in y_values])\n",
    "plt.xticks(size=15)\n",
    "plt.yticks(size=15)\n",
    "plt.xlabel(\"Number of links (x$10^3$)\",size=18)\n",
    "plt.ylabel(\"Cluster Size (x$10^3$)\",size=18)\n",
    "plt.title(\"EPO_App_reg - Full Network - P.C. 'G'\",size=18)\n",
    "plt.show()"
   ]
  },
  {
   "cell_type": "code",
   "execution_count": null,
   "metadata": {
    "scrolled": true
   },
   "outputs": [],
   "source": [
    "# EXPORTING DATAPLOT\n",
    "EPO_App_reg_G_DataPlot=collections.defaultdict(list)\n",
    "for i in range(len(sizes_EPO_App_reg_G)):\n",
    "    EPO_App_reg_G_DataPlot[i].append([links_EPO_App_reg_G[i],\\\n",
    "                                      sizes_EPO_App_reg_G[i][0],\\\n",
    "                                      sizes_EPO_App_reg_G[i][1],\\\n",
    "                                      sizes_EPO_App_reg_G[i][2],\\\n",
    "                                      sizes_EPO_App_reg_G[i][3],\\\n",
    "                                      sizes_EPO_App_reg_G[i][4]]) # einai dict. Gi ayto [i] kai append\n",
    "\n",
    "with open('FULL_EPO_App_reg_G_DataPlot.txt', 'w') as convert_file:\n",
    "    for key,value in EPO_App_reg_G_DataPlot.items():\n",
    "        for x,y,z,w,q,t in value:\n",
    "            convert_file.write('%s|%s|%s|%s|%s|%s\\n'%(x,y,z,w,q,t))"
   ]
  },
  {
   "cell_type": "code",
   "execution_count": null,
   "metadata": {
    "scrolled": true
   },
   "outputs": [],
   "source": [
    "EPO_App_reg_G_Data=collections.defaultdict(list)\n",
    "for i in range(len(dates_EPO_App_reg_G)):\n",
    "    EPO_App_reg_G_Data[i].append([dates_EPO_App_reg_G[i],sizes_EPO_App_reg_G[i]])\n",
    "\n",
    "with open('FULL_EPO_App_reg_G_Data.txt', 'w') as convert_file:\n",
    "     for key,value in EPO_App_reg_G_Data.items():\n",
    "        convert_file.write('%s:%s\\n'%(key,value))"
   ]
  },
  {
   "cell_type": "markdown",
   "metadata": {},
   "source": [
    "# EPO_Inv_reg"
   ]
  },
  {
   "cell_type": "markdown",
   "metadata": {},
   "source": [
    "## Pub_nbrs "
   ]
  },
  {
   "cell_type": "code",
   "execution_count": null,
   "metadata": {
    "scrolled": true
   },
   "outputs": [],
   "source": [
    "EPO_Inv_reg_all=[]\n",
    "EPO_Inv_reg_all=list(map(list,zip(EPO_Inv_reg['Pub_nbr'],EPO_Inv_reg['Person_id'],EPO_Inv_reg['Appln_id'])))\n",
    "#EPO_Inv_reg_all.sort(key=takeZeroColumn) # Έχω Sortάρει πάνω με βάση το pub_nbr"
   ]
  },
  {
   "cell_type": "code",
   "execution_count": null,
   "metadata": {
    "scrolled": true
   },
   "outputs": [],
   "source": [
    "# Τελικές τιμές Pub_nbrs, Person_ids μετά την αντιστοίχιση στις 2 λίστες.\n",
    "EPO_Inv_reg_Pub_nbr_Person_id=[]\n",
    "EPO_Inv_reg_Pub_nbr_Person_id=pub_nbr_person_id_fun(EPO_Inv_reg_all,list_EP_Cit_Counts)"
   ]
  },
  {
   "cell_type": "code",
   "execution_count": null,
   "metadata": {
    "scrolled": true
   },
   "outputs": [],
   "source": [
    "del EP_Cit_Counts\n",
    "list_EP_Cit_Counts.clear()\n",
    "test_list_EP_Cit_Counts.clear()\n",
    "All_Dates.clear()\n",
    "del EPO_Inv_reg\n",
    "EPO_Inv_reg_all.clear()"
   ]
  },
  {
   "cell_type": "markdown",
   "metadata": {},
   "source": [
    "## Creating Edges "
   ]
  },
  {
   "cell_type": "code",
   "execution_count": null,
   "metadata": {
    "scrolled": true
   },
   "outputs": [],
   "source": [
    "mixed_edges_clusters_EPO_Inv_reg=[]\n",
    "links_EPO_Inv_reg,sizes_EPO_Inv_reg,dates_EPO_Inv_reg=[],[],[]\n",
    "mixed_edges_clusters_EPO_Inv_reg=creating_edges_fun_dynamical(EPO_Inv_reg_Pub_nbr_Person_id,1000)\n",
    "links_EPO_Inv_reg=mixed_edges_clusters_EPO_Inv_reg[0]\n",
    "sizes_EPO_Inv_reg=mixed_edges_clusters_EPO_Inv_reg[1]\n",
    "dates_EPO_Inv_reg=mixed_edges_clusters_EPO_Inv_reg[2]"
   ]
  },
  {
   "cell_type": "code",
   "execution_count": null,
   "metadata": {
    "scrolled": true
   },
   "outputs": [],
   "source": [
    "for i in range (len(links_EPO_Inv_reg)):\n",
    "    plt.plot(links_EPO_Inv_reg[i],sizes_EPO_Inv_reg[i][0],'^',ms=4,markeredgewidth=0.5,mec='r',mfc='none')\n",
    "    plt.plot(links_EPO_Inv_reg[i],sizes_EPO_Inv_reg[i][1],'*',ms=4,markeredgewidth=0.5,mec='g',mfc='none')\n",
    "    plt.plot(links_EPO_Inv_reg[i],sizes_EPO_Inv_reg[i][2],'<',ms=4,markeredgewidth=0.5,mec='b',mfc='none')\n",
    "    plt.plot(links_EPO_Inv_reg[i],sizes_EPO_Inv_reg[i][3],'>',ms=4,markeredgewidth=0.5,mec='c',mfc='none')\n",
    "    plt.plot(links_EPO_Inv_reg[i],sizes_EPO_Inv_reg[i][4],'s',ms=4,markeredgewidth=0.5,mec='y',mfc='none')\n",
    "plt.legend(('1st cluster','2nd cluster','3rd cluster','4th cluster','5th cluster'),\\\n",
    "           shadow=True, title=\"Legend\", fancybox=True,prop={'size': 11})\n",
    "plt.locator_params(axis='both',nbins=5)\n",
    "x_values = plt.gca().get_xticks()\n",
    "plt.gca().set_xticklabels(['{:,.1f}'.format(x/1000) for x in x_values])\n",
    "y_values = plt.gca().get_yticks()\n",
    "plt.gca().set_yticklabels(['{:,.1f}'.format(y/1000) for y in y_values])\n",
    "plt.xticks(size=15)\n",
    "plt.yticks(size=15)\n",
    "plt.xlabel(\"Number of links (x$10^3$)\",size=18)\n",
    "plt.ylabel(\"Cluster Size (x$10^3$)\",size=18)\n",
    "plt.title(\"EPO_Inv_reg - Full Network\",size=18)\n",
    "plt.show()"
   ]
  },
  {
   "cell_type": "code",
   "execution_count": null,
   "metadata": {
    "scrolled": true
   },
   "outputs": [],
   "source": [
    "# EXPORTING DATAPLOT\n",
    "EPO_Inv_reg_DataPlot=collections.defaultdict(list)\n",
    "for i in range(len(sizes_EPO_Inv_reg)):\n",
    "    EPO_Inv_reg_DataPlot[i].append([links_EPO_Inv_reg[i],\\\n",
    "                                    sizes_EPO_Inv_reg[i][0],\\\n",
    "                                    sizes_EPO_Inv_reg[i][1],\\\n",
    "                                    sizes_EPO_Inv_reg[i][2],\\\n",
    "                                    sizes_EPO_Inv_reg[i][3],\\\n",
    "                                    sizes_EPO_Inv_reg[i][4]]) # einai dict. Gi ayto [i] kai append\n",
    "\n",
    "with open('FULL_EPO_Inv_reg__DataPlot.txt', 'w') as convert_file:\n",
    "    for key,value in EPO_Inv_reg_DataPlot.items():\n",
    "        for x,y,z,w,q,t in value:\n",
    "            convert_file.write('%s|%s|%s|%s|%s|%s\\n'%(x,y,z,w,q,t))"
   ]
  },
  {
   "cell_type": "code",
   "execution_count": null,
   "metadata": {
    "scrolled": true
   },
   "outputs": [],
   "source": [
    "EPO_Inv_reg_Data=collections.defaultdict(list)\n",
    "for i in range(len(dates_EPO_Inv_reg)):\n",
    "    EPO_Inv_reg_Data[i].append([dates_EPO_Inv_reg[i],sizes_EPO_Inv_reg[i]])\n",
    "\n",
    "with open('FULL_EPO_Inv_reg__Data.txt', 'w') as convert_file:\n",
    "     for key,value in EPO_Inv_reg_Data.items():\n",
    "        convert_file.write('%s:%s\\n'%(key,value))"
   ]
  },
  {
   "cell_type": "markdown",
   "metadata": {},
   "source": [
    "# EPO_Inv_reg based on pantents' category"
   ]
  },
  {
   "cell_type": "code",
   "execution_count": null,
   "metadata": {
    "scrolled": true
   },
   "outputs": [],
   "source": [
    "EPO_Inv_reg_Appln_id=[] #Παίρνω το προηγούμενο αρχείο και σορτάρω με βάση το appln_id για αντιστοίχιση παρακάτω\n",
    "EPO_Inv_reg_Appln_id=EPO_Inv_reg_Pub_nbr_Person_id\n",
    "EPO_Inv_reg_Appln_id.sort(key=takeSecondColumn)"
   ]
  },
  {
   "cell_type": "markdown",
   "metadata": {},
   "source": [
    "## Patents \"C\": Chemistry; Metallurgy"
   ]
  },
  {
   "cell_type": "code",
   "execution_count": null,
   "metadata": {
    "scrolled": true
   },
   "outputs": [],
   "source": [
    "EPO_Inv_reg_C_Pub_nbr_Person_id_Appl_id=[] #Aντιστοίχιση για να κρατήσω μόνο τις σειρές με appln_id -> C\n",
    "EPO_Inv_reg_C_Pub_nbr_Person_id_Appl_id=appln_id_pub_nbr_person_id_fun(EPO_Inv_reg_Appln_id,list_Ipc_C)"
   ]
  },
  {
   "cell_type": "markdown",
   "metadata": {},
   "source": [
    "### Creating Edges for Every Time Window"
   ]
  },
  {
   "cell_type": "code",
   "execution_count": null,
   "metadata": {
    "scrolled": true
   },
   "outputs": [],
   "source": [
    "# Δημιουργία συνδέσεων και μεγέθους σμηνών κατευθείαν από την edges συνάρτηση-Δυναμικό δίκτυο\n",
    "mixed_edges_clusters_EPO_Inv_reg_C=[]\n",
    "links_EPO_Inv_reg_C,sizes_EPO_Inv_reg_C,dates_EPO_Inv_reg_C=[],[],[]\n",
    "mixed_edges_clusters_EPO_Inv_reg_C=creating_edges_fun_dynamical(EPO_Inv_reg_C_Pub_nbr_Person_id_Appl_id,1000)\n",
    "links_EPO_Inv_reg_C=mixed_edges_clusters_EPO_Inv_reg_C[0]\n",
    "sizes_EPO_Inv_reg_C=mixed_edges_clusters_EPO_Inv_reg_C[1]\n",
    "dates_EPO_Inv_reg_C=mixed_edges_clusters_EPO_Inv_reg_C[2]"
   ]
  },
  {
   "cell_type": "code",
   "execution_count": null,
   "metadata": {
    "scrolled": true
   },
   "outputs": [],
   "source": [
    "for i in range(len(links_EPO_Inv_reg_C)):\n",
    "    plt.plot(links_EPO_Inv_reg_C[i],sizes_EPO_Inv_reg_C[i][0],'^',ms=4,markeredgewidth=0.5,mec='r',mfc='none')\n",
    "    plt.plot(links_EPO_Inv_reg_C[i],sizes_EPO_Inv_reg_C[i][1],'*',ms=4,markeredgewidth=0.5,mec='g',mfc='none')\n",
    "    plt.plot(links_EPO_Inv_reg_C[i],sizes_EPO_Inv_reg_C[i][2],'<',ms=4,markeredgewidth=0.5,mec='b',mfc='none')\n",
    "    plt.plot(links_EPO_Inv_reg_C[i],sizes_EPO_Inv_reg_C[i][3],'>',ms=4,markeredgewidth=0.5,mec='c',mfc='none')\n",
    "    plt.plot(links_EPO_Inv_reg_C[i],sizes_EPO_Inv_reg_C[i][4],'s',ms=4,markeredgewidth=0.5,mec='y',mfc='none')\n",
    "plt.legend(('1st cluster','2nd cluster','3rd cluster','4th cluster','5th cluster'),\\\n",
    "           shadow=True, title=\"Legend\", fancybox=True,prop={'size': 11})\n",
    "plt.locator_params(axis='both',nbins=5)\n",
    "x_values = plt.gca().get_xticks()\n",
    "plt.gca().set_xticklabels(['{:,.1f}'.format(x/1000) for x in x_values])\n",
    "y_values = plt.gca().get_yticks()\n",
    "plt.gca().set_yticklabels(['{:,.1f}'.format(y/1000) for y in y_values])\n",
    "plt.xticks(size=15)\n",
    "plt.yticks(size=15)\n",
    "plt.xlabel(\"Number of links (x$10^3$)\",size=18)\n",
    "plt.ylabel(\"Cluster Size (x$10^3$)\",size=18)\n",
    "plt.title(\"EPO_Inv_reg - Full Network - P.C. 'C'\",size=18)\n",
    "plt.show()"
   ]
  },
  {
   "cell_type": "code",
   "execution_count": null,
   "metadata": {
    "scrolled": true
   },
   "outputs": [],
   "source": [
    "# EXPORTING DATAPLOT\n",
    "EPO_Inv_reg_C_DataPlot=collections.defaultdict(list)\n",
    "for i in range(len(sizes_EPO_Inv_reg_C)):\n",
    "    EPO_Inv_reg_C_DataPlot[i].append([links_EPO_Inv_reg_C[i],\\\n",
    "                                           sizes_EPO_Inv_reg_C[i][0],\\\n",
    "                                           sizes_EPO_Inv_reg_C[i][1],\\\n",
    "                                           sizes_EPO_Inv_reg_C[i][2],\\\n",
    "                                           sizes_EPO_Inv_reg_C[i][3],\\\n",
    "                                           sizes_EPO_Inv_reg_C[i][4]]) # einai dict. Gi ayto [i] kai append\n",
    "\n",
    "with open('FULL_EPO_Inv_reg_C_DataPlot.txt', 'w') as convert_file:\n",
    "    for key,value in EPO_Inv_reg_C_DataPlot.items():\n",
    "        for x,y,z,w,q,t in value:\n",
    "            convert_file.write('%s|%s|%s|%s|%s|%s\\n'%(x,y,z,w,q,t))"
   ]
  },
  {
   "cell_type": "code",
   "execution_count": null,
   "metadata": {
    "scrolled": true
   },
   "outputs": [],
   "source": [
    "EPO_Inv_reg_C_Data=collections.defaultdict(list)\n",
    "for i in range(len(dates_EPO_Inv_reg_C)):\n",
    "    EPO_Inv_reg_C_Data[i].append([dates_EPO_Inv_reg_C[i],sizes_EPO_Inv_reg_C[i]])\n",
    "\n",
    "with open('FULL_EPO_Inv_reg_C_Data.txt', 'w') as convert_file:\n",
    "     for key,value in EPO_Inv_reg_C_Data.items():\n",
    "        convert_file.write('%s:%s\\n'%(key,value))"
   ]
  },
  {
   "cell_type": "markdown",
   "metadata": {},
   "source": [
    "## Patents \"A\": Human necessities"
   ]
  },
  {
   "cell_type": "code",
   "execution_count": null,
   "metadata": {
    "scrolled": true
   },
   "outputs": [],
   "source": [
    "EPO_Inv_reg_A_Pub_nbr_Person_id_Appl_id=[] #Aντιστοίχιση για να κρατήσω μόνο τις σειρές με appln_id -> A\n",
    "EPO_Inv_reg_A_Pub_nbr_Person_id_Appl_id=appln_id_pub_nbr_person_id_fun(EPO_Inv_reg_Appln_id,list_Ipc_A)"
   ]
  },
  {
   "cell_type": "markdown",
   "metadata": {},
   "source": [
    "### Creating Edges for Every Time Window"
   ]
  },
  {
   "cell_type": "code",
   "execution_count": null,
   "metadata": {
    "scrolled": true
   },
   "outputs": [],
   "source": [
    "# Δημιουργία συνδέσεων και μεγέθους σμηνών κατευθείαν από την edges συνάρτηση-Δυναμικό δίκτυο\n",
    "mixed_edges_clusters_EPO_Inv_reg_A=[]\n",
    "links_EPO_Inv_reg_A,sizes_EPO_Inv_reg_A,dates_EPO_Inv_reg_A=[],[],[]\n",
    "mixed_edges_clusters_EPO_Inv_reg_A=creating_edges_fun_dynamical(EPO_Inv_reg_A_Pub_nbr_Person_id_Appl_id,1000)\n",
    "links_EPO_Inv_reg_A=mixed_edges_clusters_EPO_Inv_reg_A[0]\n",
    "sizes_EPO_Inv_reg_A=mixed_edges_clusters_EPO_Inv_reg_A[1]\n",
    "dates_EPO_Inv_reg_A=mixed_edges_clusters_EPO_Inv_reg_A[2]"
   ]
  },
  {
   "cell_type": "code",
   "execution_count": null,
   "metadata": {
    "scrolled": true
   },
   "outputs": [],
   "source": [
    "for i in range(len(links_EPO_Inv_reg_A)):\n",
    "    plt.plot(links_EPO_Inv_reg_A[i],sizes_EPO_Inv_reg_A[i][0],'^',ms=4,markeredgewidth=0.5,mec='r',mfc='none')\n",
    "    plt.plot(links_EPO_Inv_reg_A[i],sizes_EPO_Inv_reg_A[i][1],'*',ms=4,markeredgewidth=0.5,mec='g',mfc='none')\n",
    "    plt.plot(links_EPO_Inv_reg_A[i],sizes_EPO_Inv_reg_A[i][2],'<',ms=4,markeredgewidth=0.5,mec='b',mfc='none')\n",
    "    plt.plot(links_EPO_Inv_reg_A[i],sizes_EPO_Inv_reg_A[i][3],'>',ms=4,markeredgewidth=0.5,mec='c',mfc='none')\n",
    "    plt.plot(links_EPO_Inv_reg_A[i],sizes_EPO_Inv_reg_A[i][4],'s',ms=4,markeredgewidth=0.5,mec='y',mfc='none')\n",
    "plt.legend(('1st cluster','2nd cluster','3rd cluster','4th cluster','5th cluster'),\\\n",
    "           shadow=True, title=\"Legend\", fancybox=True,prop={'size': 11})\n",
    "plt.locator_params(axis='both',nbins=5)\n",
    "x_values = plt.gca().get_xticks()\n",
    "plt.gca().set_xticklabels(['{:,.1f}'.format(x/1000) for x in x_values])\n",
    "y_values = plt.gca().get_yticks()\n",
    "plt.gca().set_yticklabels(['{:,.1f}'.format(y/1000) for y in y_values])\n",
    "plt.xticks(size=15)\n",
    "plt.yticks(size=15)\n",
    "plt.xlabel(\"Number of links (x$10^3$)\",size=18)\n",
    "plt.ylabel(\"Cluster Size (x$10^3$)\",size=18)\n",
    "plt.title(\"EPO_Inv_reg - Full Network - P.C. 'A'\",size=18)\n",
    "plt.show()"
   ]
  },
  {
   "cell_type": "code",
   "execution_count": null,
   "metadata": {
    "scrolled": true
   },
   "outputs": [],
   "source": [
    "# EXPORTING DATAPLOT\n",
    "EPO_Inv_reg_A_DataPlot=collections.defaultdict(list)\n",
    "for i in range(len(sizes_EPO_Inv_reg_A)):\n",
    "    EPO_Inv_reg_A_DataPlot[i].append([links_EPO_Inv_reg_A[i],\\\n",
    "                                      sizes_EPO_Inv_reg_A[i][0],\\\n",
    "                                      sizes_EPO_Inv_reg_A[i][1],\\\n",
    "                                      sizes_EPO_Inv_reg_A[i][2],\\\n",
    "                                      sizes_EPO_Inv_reg_A[i][3],\\\n",
    "                                      sizes_EPO_Inv_reg_A[i][4]]) # einai dict. Gi ayto [i] kai append\n",
    "\n",
    "with open('FULL_EPO_Inv_reg_A_DataPlot.txt', 'w') as convert_file:\n",
    "    for key,value in EPO_Inv_reg_A_DataPlot.items():\n",
    "        for x,y,z,w,q,t in value:\n",
    "            convert_file.write('%s|%s|%s|%s|%s|%s\\n'%(x,y,z,w,q,t))"
   ]
  },
  {
   "cell_type": "code",
   "execution_count": null,
   "metadata": {
    "scrolled": true
   },
   "outputs": [],
   "source": [
    "EPO_Inv_reg_A_Data=collections.defaultdict(list)\n",
    "for i in range(len(dates_EPO_Inv_reg_A)):\n",
    "    EPO_Inv_reg_A_Data[i].append([dates_EPO_Inv_reg_A[i],sizes_EPO_Inv_reg_A[i]])\n",
    "\n",
    "with open('FULL_EPO_Inv_reg_A_Data.txt', 'w') as convert_file:\n",
    "     for key,value in EPO_Inv_reg_A_Data.items():\n",
    "        convert_file.write('%s:%s\\n'%(key,value))"
   ]
  },
  {
   "cell_type": "markdown",
   "metadata": {},
   "source": [
    "## Patents \"H\": Electricity"
   ]
  },
  {
   "cell_type": "code",
   "execution_count": null,
   "metadata": {
    "scrolled": true
   },
   "outputs": [],
   "source": [
    "EPO_Inv_reg_H_Pub_nbr_Person_id_Appl_id=[] #Aντιστοίχιση για να κρατήσω μόνο τις σειρές με appln_id -> H\n",
    "EPO_Inv_reg_H_Pub_nbr_Person_id_Appl_id=appln_id_pub_nbr_person_id_fun(EPO_Inv_reg_Appln_id,list_Ipc_H)"
   ]
  },
  {
   "cell_type": "markdown",
   "metadata": {},
   "source": [
    "### Creating Edges for Every Time Window"
   ]
  },
  {
   "cell_type": "code",
   "execution_count": null,
   "metadata": {
    "scrolled": true
   },
   "outputs": [],
   "source": [
    "# Δημιουργία συνδέσεων και μεγέθους σμηνών κατευθείαν από την edges συνάρτηση-Δυναμικό δίκτυο\n",
    "mixed_edges_clusters_EPO_Inv_reg_H=[]\n",
    "links_EPO_Inv_reg_H,sizes_EPO_Inv_reg_H,dates_EPO_Inv_reg_H=[],[],[]\n",
    "mixed_edges_clusters_EPO_Inv_reg_H=creating_edges_fun_dynamical(EPO_Inv_reg_H_Pub_nbr_Person_id_Appl_id,1000)\n",
    "links_EPO_Inv_reg_H=mixed_edges_clusters_EPO_Inv_reg_H[0]\n",
    "sizes_EPO_Inv_reg_H=mixed_edges_clusters_EPO_Inv_reg_H[1]\n",
    "dates_EPO_Inv_reg_H=mixed_edges_clusters_EPO_Inv_reg_H[2]"
   ]
  },
  {
   "cell_type": "code",
   "execution_count": null,
   "metadata": {
    "scrolled": true
   },
   "outputs": [],
   "source": [
    "for i in range(len(links_EPO_Inv_reg_H)):\n",
    "    plt.plot(links_EPO_Inv_reg_H[i],sizes_EPO_Inv_reg_H[i][0],'^',ms=4,markeredgewidth=0.5,mec='r',mfc='none')\n",
    "    plt.plot(links_EPO_Inv_reg_H[i],sizes_EPO_Inv_reg_H[i][1],'*',ms=4,markeredgewidth=0.5,mec='g',mfc='none')\n",
    "    plt.plot(links_EPO_Inv_reg_H[i],sizes_EPO_Inv_reg_H[i][2],'<',ms=4,markeredgewidth=0.5,mec='b',mfc='none')\n",
    "    plt.plot(links_EPO_Inv_reg_H[i],sizes_EPO_Inv_reg_H[i][3],'>',ms=4,markeredgewidth=0.5,mec='c',mfc='none')\n",
    "    plt.plot(links_EPO_Inv_reg_H[i],sizes_EPO_Inv_reg_H[i][4],'s',ms=4,markeredgewidth=0.5,mec='y',mfc='none')\n",
    "plt.legend(('1st cluster','2nd cluster','3rd cluster','4th cluster','5th cluster'),\\\n",
    "           shadow=True, title=\"Legend\", fancybox=True,prop={'size': 11})\n",
    "plt.locator_params(axis='both',nbins=5)\n",
    "x_values = plt.gca().get_xticks()\n",
    "plt.gca().set_xticklabels(['{:,.1f}'.format(x/1000) for x in x_values])\n",
    "y_values = plt.gca().get_yticks()\n",
    "plt.gca().set_yticklabels(['{:,.1f}'.format(y/1000) for y in y_values])\n",
    "plt.xticks(size=15)\n",
    "plt.yticks(size=15)\n",
    "plt.xlabel(\"Number of links (x$10^3$)\",size=18)\n",
    "plt.ylabel(\"Cluster Size (x$10^3$)\",size=18)\n",
    "plt.title(\"EPO_Inv_reg - Full Network - P.C. 'H'\",size=18)\n",
    "plt.show()"
   ]
  },
  {
   "cell_type": "code",
   "execution_count": null,
   "metadata": {
    "scrolled": true
   },
   "outputs": [],
   "source": [
    "# EXPORTING DATAPLOT\n",
    "EPO_Inv_reg_H_DataPlot=collections.defaultdict(list)\n",
    "for i in range(len(sizes_EPO_Inv_reg_H)):\n",
    "    EPO_Inv_reg_H_DataPlot[i].append([links_EPO_Inv_reg_H[i],\\\n",
    "                                      sizes_EPO_Inv_reg_H[i][0],\\\n",
    "                                      sizes_EPO_Inv_reg_H[i][1],\\\n",
    "                                      sizes_EPO_Inv_reg_H[i][2],\\\n",
    "                                      sizes_EPO_Inv_reg_H[i][3],\\\n",
    "                                      sizes_EPO_Inv_reg_H[i][4]]) # einai dict. Gi ayto [i] kai append\n",
    "\n",
    "with open('FULL_EPO_Inv_reg_H_DataPlot.txt', 'w') as convert_file:\n",
    "    for key,value in EPO_Inv_reg_H_DataPlot.items():\n",
    "        for x,y,z,w,q,t in value:\n",
    "            convert_file.write('%s|%s|%s|%s|%s|%s\\n'%(x,y,z,w,q,t))"
   ]
  },
  {
   "cell_type": "code",
   "execution_count": null,
   "metadata": {
    "scrolled": true
   },
   "outputs": [],
   "source": [
    "EPO_Inv_reg_H_Data=collections.defaultdict(list)\n",
    "for i in range(len(dates_EPO_Inv_reg_H)):\n",
    "    EPO_Inv_reg_H_Data[i].append([dates_EPO_Inv_reg_H[i],sizes_EPO_Inv_reg_H[i]])\n",
    "\n",
    "with open('FULL_EPO_Inv_reg_H_Data.txt', 'w') as convert_file:\n",
    "     for key,value in EPO_Inv_reg_H_Data.items():\n",
    "        convert_file.write('%s:%s\\n'%(key,value))"
   ]
  },
  {
   "cell_type": "markdown",
   "metadata": {},
   "source": [
    "## Patents \"B\": Performing Operations; Transporting"
   ]
  },
  {
   "cell_type": "code",
   "execution_count": null,
   "metadata": {
    "scrolled": true
   },
   "outputs": [],
   "source": [
    "EPO_Inv_reg_B_Pub_nbr_Person_id_Appl_id=[] #Aντιστοίχιση για να κρατήσω μόνο τις σειρές με appln_id -> B\n",
    "EPO_Inv_reg_B_Pub_nbr_Person_id_Appl_id=appln_id_pub_nbr_person_id_fun(EPO_Inv_reg_Appln_id,list_Ipc_B)"
   ]
  },
  {
   "cell_type": "markdown",
   "metadata": {},
   "source": [
    "### Creating Edges for Every Time Window"
   ]
  },
  {
   "cell_type": "code",
   "execution_count": null,
   "metadata": {
    "scrolled": true
   },
   "outputs": [],
   "source": [
    "# Δημιουργία συνδέσεων και μεγέθους σμηνών κατευθείαν από την edges συνάρτηση-Δυναμικό δίκτυο\n",
    "mixed_edges_clusters_EPO_Inv_reg_B=[]\n",
    "links_EPO_Inv_reg_B,sizes_EPO_Inv_reg_B,dates_EPO_Inv_reg_B=[],[],[]\n",
    "mixed_edges_clusters_EPO_Inv_reg_B=creating_edges_fun_dynamical(EPO_Inv_reg_B_Pub_nbr_Person_id_Appl_id,1000)\n",
    "links_EPO_Inv_reg_B=mixed_edges_clusters_EPO_Inv_reg_B[0]\n",
    "sizes_EPO_Inv_reg_B=mixed_edges_clusters_EPO_Inv_reg_B[1]\n",
    "dates_EPO_Inv_reg_B=mixed_edges_clusters_EPO_Inv_reg_B[2]"
   ]
  },
  {
   "cell_type": "code",
   "execution_count": null,
   "metadata": {
    "scrolled": true
   },
   "outputs": [],
   "source": [
    "for i in range(len(links_EPO_Inv_reg_B)):\n",
    "    plt.plot(links_EPO_Inv_reg_B[i],sizes_EPO_Inv_reg_B[i][0],'^',ms=4,markeredgewidth=0.5,mec='r',mfc='none')\n",
    "    plt.plot(links_EPO_Inv_reg_B[i],sizes_EPO_Inv_reg_B[i][1],'*',ms=4,markeredgewidth=0.5,mec='g',mfc='none')\n",
    "    plt.plot(links_EPO_Inv_reg_B[i],sizes_EPO_Inv_reg_B[i][2],'<',ms=4,markeredgewidth=0.5,mec='b',mfc='none')\n",
    "    plt.plot(links_EPO_Inv_reg_B[i],sizes_EPO_Inv_reg_B[i][3],'>',ms=4,markeredgewidth=0.5,mec='c',mfc='none')\n",
    "    plt.plot(links_EPO_Inv_reg_B[i],sizes_EPO_Inv_reg_B[i][4],'s',ms=4,markeredgewidth=0.5,mec='y',mfc='none')\n",
    "plt.legend(('1st cluster','2nd cluster','3rd cluster','4th cluster','5th cluster'),\\\n",
    "           shadow=True, title=\"Legend\", fancybox=True,prop={'size': 11})\n",
    "plt.locator_params(axis='both',nbins=5)\n",
    "x_values = plt.gca().get_xticks()\n",
    "plt.gca().set_xticklabels(['{:,.1f}'.format(x/1000) for x in x_values])\n",
    "y_values = plt.gca().get_yticks()\n",
    "plt.gca().set_yticklabels(['{:,.1f}'.format(y/1000) for y in y_values])\n",
    "plt.xticks(size=15)\n",
    "plt.yticks(size=15)\n",
    "plt.xlabel(\"Number of links (x$10^3$)\",size=18)\n",
    "plt.ylabel(\"Cluster Size (x$10^3$)\",size=18)\n",
    "plt.title(\"EPO_Inv_reg - Full Network - P.C. 'B'\",size=18)\n",
    "plt.show()"
   ]
  },
  {
   "cell_type": "code",
   "execution_count": null,
   "metadata": {
    "scrolled": true
   },
   "outputs": [],
   "source": [
    "# EXPORTING DATAPLOT\n",
    "EPO_Inv_reg_B_DataPlot=collections.defaultdict(list)\n",
    "for i in range(len(sizes_EPO_Inv_reg_B)):\n",
    "    EPO_Inv_reg_B_DataPlot[i].append([links_EPO_Inv_reg_B[i],\\\n",
    "                                      sizes_EPO_Inv_reg_B[i][0],\\\n",
    "                                      sizes_EPO_Inv_reg_B[i][1],\\\n",
    "                                      sizes_EPO_Inv_reg_B[i][2],\\\n",
    "                                      sizes_EPO_Inv_reg_B[i][3],\\\n",
    "                                      sizes_EPO_Inv_reg_B[i][4]]) # einai dict. Gi ayto [i] kai append\n",
    "\n",
    "with open('FULL_EPO_Inv_reg_B_DataPlot.txt', 'w') as convert_file:\n",
    "    for key,value in EPO_Inv_reg_B_DataPlot.items():\n",
    "        for x,y,z,w,q,t in value:\n",
    "            convert_file.write('%s|%s|%s|%s|%s|%s\\n'%(x,y,z,w,q,t))"
   ]
  },
  {
   "cell_type": "code",
   "execution_count": null,
   "metadata": {
    "scrolled": true
   },
   "outputs": [],
   "source": [
    "EPO_Inv_reg_B_Data=collections.defaultdict(list)\n",
    "for i in range(len(dates_EPO_Inv_reg_B)):\n",
    "    EPO_Inv_reg_B_Data[i].append([dates_EPO_Inv_reg_B[i],sizes_EPO_Inv_reg_B[i]])\n",
    "\n",
    "with open('FULL_EPO_Inv_reg_B_Data.txt', 'w') as convert_file:\n",
    "     for key,value in EPO_Inv_reg_B_Data.items():\n",
    "        convert_file.write('%s:%s\\n'%(key,value))"
   ]
  },
  {
   "cell_type": "markdown",
   "metadata": {},
   "source": [
    "## Patents \"G\": Physics"
   ]
  },
  {
   "cell_type": "code",
   "execution_count": null,
   "metadata": {
    "scrolled": true
   },
   "outputs": [],
   "source": [
    "EPO_Inv_reg_G_Pub_nbr_Person_id_Appl_id=[] #Aντιστοίχιση για να κρατήσω μόνο τις σειρές με appln_id -> G\n",
    "EPO_Inv_reg_G_Pub_nbr_Person_id_Appl_id=appln_id_pub_nbr_person_id_fun(EPO_Inv_reg_Appln_id,list_Ipc_G)"
   ]
  },
  {
   "cell_type": "markdown",
   "metadata": {},
   "source": [
    "### Creating Edges for Every Time Window"
   ]
  },
  {
   "cell_type": "code",
   "execution_count": null,
   "metadata": {
    "scrolled": true
   },
   "outputs": [],
   "source": [
    "# Δημιουργία συνδέσεων και μεγέθους σμηνών κατευθείαν από την edges συνάρτηση-Δυναμικό δίκτυο\n",
    "mixed_edges_clusters_EPO_Inv_reg_G=[]\n",
    "links_EPO_Inv_reg_G,sizes_EPO_Inv_reg_G,dates_EPO_Inv_reg_G=[],[],[]\n",
    "mixed_edges_clusters_EPO_Inv_reg_G=creating_edges_fun_dynamical(EPO_Inv_reg_G_Pub_nbr_Person_id_Appl_id,1000)\n",
    "links_EPO_Inv_reg_G=mixed_edges_clusters_EPO_Inv_reg_G[0]\n",
    "sizes_EPO_Inv_reg_G=mixed_edges_clusters_EPO_Inv_reg_G[1]\n",
    "dates_EPO_Inv_reg_G=mixed_edges_clusters_EPO_Inv_reg_G[2]"
   ]
  },
  {
   "cell_type": "code",
   "execution_count": null,
   "metadata": {
    "scrolled": true
   },
   "outputs": [],
   "source": [
    "for i in range(len(links_EPO_Inv_reg_G)):\n",
    "    plt.plot(links_EPO_Inv_reg_G[i],sizes_EPO_Inv_reg_G[i][0],'^',ms=4,markeredgewidth=0.5,mec='r',mfc='none')\n",
    "    plt.plot(links_EPO_Inv_reg_G[i],sizes_EPO_Inv_reg_G[i][1],'*',ms=4,markeredgewidth=0.5,mec='g',mfc='none')\n",
    "    plt.plot(links_EPO_Inv_reg_G[i],sizes_EPO_Inv_reg_G[i][2],'<',ms=4,markeredgewidth=0.5,mec='b',mfc='none')\n",
    "    plt.plot(links_EPO_Inv_reg_G[i],sizes_EPO_Inv_reg_G[i][3],'>',ms=4,markeredgewidth=0.5,mec='c',mfc='none')\n",
    "    plt.plot(links_EPO_Inv_reg_G[i],sizes_EPO_Inv_reg_G[i][4],'s',ms=4,markeredgewidth=0.5,mec='y',mfc='none')\n",
    "plt.legend(('1st cluster','2nd cluster','3rd cluster','4th cluster','5th cluster'),\\\n",
    "           shadow=True, title=\"Legend\", fancybox=True,prop={'size': 11})\n",
    "plt.locator_params(axis='both',nbins=5)\n",
    "x_values = plt.gca().get_xticks()\n",
    "plt.gca().set_xticklabels(['{:,.1f}'.format(x/1000) for x in x_values])\n",
    "y_values = plt.gca().get_yticks()\n",
    "plt.gca().set_yticklabels(['{:,.1f}'.format(y/1000) for y in y_values])\n",
    "plt.xticks(size=15)\n",
    "plt.yticks(size=15)\n",
    "plt.xlabel(\"Number of links (x$10^3$)\",size=18)\n",
    "plt.ylabel(\"Cluster Size (x$10^3$)\",size=18)\n",
    "plt.title(\"EPO_Inv_reg - Full Network - P.C. 'G'\",size=18)\n",
    "plt.show()"
   ]
  },
  {
   "cell_type": "code",
   "execution_count": null,
   "metadata": {
    "scrolled": true
   },
   "outputs": [],
   "source": [
    "# EXPORTING DATAPLOT\n",
    "EPO_Inv_reg_G_DataPlot=collections.defaultdict(list)\n",
    "for i in range(len(sizes_EPO_Inv_reg_G)):\n",
    "    EPO_Inv_reg_G_DataPlot[i].append([links_EPO_Inv_reg_G[i],\\\n",
    "                                      sizes_EPO_Inv_reg_G[i][0],\\\n",
    "                                      sizes_EPO_Inv_reg_G[i][1],\\\n",
    "                                      sizes_EPO_Inv_reg_G[i][2],\\\n",
    "                                      sizes_EPO_Inv_reg_G[i][3],\\\n",
    "                                      sizes_EPO_Inv_reg_G[i][4]]) # einai dict. Gi ayto [i] kai append\n",
    "\n",
    "with open('FULL_EPO_Inv_reg_G_DataPlot.txt', 'w') as convert_file:\n",
    "    for key,value in EPO_Inv_reg_G_DataPlot.items():\n",
    "        for x,y,z,w,q,t in value:\n",
    "            convert_file.write('%s|%s|%s|%s|%s|%s\\n'%(x,y,z,w,q,t))"
   ]
  },
  {
   "cell_type": "code",
   "execution_count": null,
   "metadata": {
    "scrolled": true
   },
   "outputs": [],
   "source": [
    "EPO_Inv_reg_G_Data=collections.defaultdict(list)\n",
    "for i in range(len(dates_EPO_Inv_reg_G)):\n",
    "    EPO_Inv_reg_G_Data[i].append([dates_EPO_Inv_reg_G[i],sizes_EPO_Inv_reg_G[i]])\n",
    "\n",
    "with open('FULL_EPO_Inv_reg_G.txt', 'w') as convert_file:\n",
    "     for key,value in EPO_Inv_reg_G_Data.items():\n",
    "        convert_file.write('%s:%s\\n'%(key,value))"
   ]
  },
  {
   "cell_type": "code",
   "execution_count": null,
   "metadata": {
    "scrolled": true
   },
   "outputs": [],
   "source": [
    "import pyttsx3\n",
    "\n",
    "engine = pyttsx3.init()\n",
    "engine.say('i am done')\n",
    "engine.runAndWait()"
   ]
  }
 ],
 "metadata": {
  "celltoolbar": "Raw Cell Format",
  "kernelspec": {
   "display_name": "Python 3",
   "language": "python",
   "name": "python3"
  },
  "language_info": {
   "codemirror_mode": {
    "name": "ipython",
    "version": 3
   },
   "file_extension": ".py",
   "mimetype": "text/x-python",
   "name": "python",
   "nbconvert_exporter": "python",
   "pygments_lexer": "ipython3",
   "version": "3.7.6"
  }
 },
 "nbformat": 4,
 "nbformat_minor": 4
}
